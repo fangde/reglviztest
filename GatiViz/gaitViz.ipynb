{
 "cells": [
  {
   "cell_type": "code",
   "execution_count": 1,
   "metadata": {
    "collapsed": true
   },
   "outputs": [],
   "source": [
    "import pymongo\n",
    "\n",
    "import numpy"
   ]
  },
  {
   "cell_type": "code",
   "execution_count": 2,
   "metadata": {
    "collapsed": true
   },
   "outputs": [],
   "source": [
    "from pymongo import MongoClient"
   ]
  },
  {
   "cell_type": "code",
   "execution_count": 3,
   "metadata": {
    "collapsed": true
   },
   "outputs": [],
   "source": [
    "client=MongoClient('localhost',27018)"
   ]
  },
  {
   "cell_type": "code",
   "execution_count": 4,
   "metadata": {
    "collapsed": true
   },
   "outputs": [],
   "source": [
    "db=client.abc"
   ]
  },
  {
   "cell_type": "code",
   "execution_count": 5,
   "metadata": {},
   "outputs": [
    {
     "name": "stdout",
     "output_type": "stream",
     "text": [
      "Database(MongoClient(host=['localhost:27018'], document_class=dict, tz_aware=False, connect=True), u'abc')\n"
     ]
    }
   ],
   "source": [
    "print db"
   ]
  },
  {
   "cell_type": "code",
   "execution_count": 6,
   "metadata": {
    "collapsed": true
   },
   "outputs": [],
   "source": [
    "frames=db.frames_export"
   ]
  },
  {
   "cell_type": "code",
   "execution_count": 7,
   "metadata": {},
   "outputs": [
    {
     "name": "stdout",
     "output_type": "stream",
     "text": [
      "613\n",
      "{u'SyncedTime': u'2017-06-16T16:37:01.533951', u'FusionedTime': u'2017-06-16T16:37:01.5374537', u'KinectId': 0, u'sessionID': u'6/16/2017 4:35:26 PM', u'CreatedTime': u'2017-06-16T16:37:01.5229506', u'_id': ObjectId('599abd8450ed564289b91912'), u'Bodies': {u'7205759403803021300': {u'JointsConfidence': 46, u'EyeGazeDirectionVector': [-0.6904239157852208, 0.6640411858578347, -0.35795090898933385], u'DistConfidence': 4.76, u'EyeGazeSceenIndex': [2, -1], u'Joints': {u'HandTipLeft': [-1.40729237, 1.05307221, -1.15802419, 1.0, 2.0], u'AnkleLeft': [-1.55777252, 0.4152403, -1.47531354, 1.0, 1.0], u'WristRight': [-1.25501692, 1.346209, -1.58955455, 1.0, 2.0], u'KneeRight': [-1.45762908, 0.9131394, -1.52622831, 1.0, 2.0], u'HipLeft': [-1.2173636, 1.02999258, -1.25769234, 1.0, 2.0], u'Head': [-0.731458664, 1.69289613, -1.09382927, 1.0, 2.0], u'FootRight': [-1.86342216, 0.664862156, -1.69716108, 1.0, 1.0], u'SpineBase': [-1.190142, 1.03805482, -1.31530511, 1.0, 2.0], u'SpineMid': [-0.990444, 1.30774271, -1.22687221, 1.0, 2.0], u'SpineShoulder': [-0.85361594, 1.50637758, -1.1646601, 1.0, 2.0], u'HandRight': [-1.31959391, 1.355098, -1.62112057, 1.0, 2.0], u'AnkleRight': [-1.72454011, 0.6263078, -1.7188499, 1.0, 1.0], u'FootLeft': [-1.69871128, 0.453222156, -1.4592154, 1.0, 1.0], u'Neck': [-0.8128087, 1.57116187, -1.14521, 1.0, 2.0], u'ThumbLeft': [-1.35013676, 1.012786, -1.08186042, 1.0, 2.0], u'ElbowLeft': [-1.04453969, 1.18764508, -1.0438621, 1.0, 2.0], u'ShoulderLeft': [-0.8867852, 1.40958178, -1.01732528, 1.0, 2.0], u'WristLeft': [-1.26783085, 1.08548939, -1.09550846, 1.0, 2.0], u'HandLeft': [-1.34847736, 1.07599509, -1.12552106, 1.0, 2.0], u'HandTipRight': [-1.43453324, 1.36644435, -1.657408, 1.0, 2.0], u'HipRight': [-1.22112346, 1.1002115, -1.3886534, 1.0, 2.0], u'ThumbRight': [-1.35790372, 1.34123206, -1.644433, 1.0, 2.0], u'KneeLeft': [-1.408414, 0.736514032, -1.355133, 1.0, 2.0], u'ShoulderRight': [-0.894385755, 1.52775371, -1.341606, 1.0, 2.0], u'ElbowRight': [-1.02606332, 1.39097524, -1.52343869, 1.0, 2.0]}, u'EyeGazeSceenPosition': [0.5554949577473007, -0.049379630892879334, 2.5941391506719125, -0.6743796308928793, 4886.332972253248, -1165.3280021828955], u'HandsConfidence': 0, u'KinectId': 0, u'HandRightState': 0, u'OriginJoints': {u'HandTipLeft': [0.401739269, -0.4314426, 1.78910649, 1.0, 0.0], u'AnkleLeft': [0.6206598, -1.13000214, 1.87865448, 1.0, 0.0], u'WristRight': [0.898349047, -0.228183687, 1.58004165, 1.0, 0.0], u'KneeRight': [0.7929045, -0.6480541, 1.66091537, 1.0, 0.0], u'HipLeft': [0.615740955, -0.387479, 1.84710729, 1.0, 0.0], u'Head': [0.6749511, 0.423382521, 1.96472728, 1.0, 0.0], u'FootRight': [0.7465988, -1.11474, 1.42295468, 1.0, 0.0], u'SpineBase': [0.7005596, -0.383809477, 1.85254443, 1.0, 0.0], u'SpineMid': [0.692450464, -0.05330977, 1.90950525, 1.0, 0.0], u'SpineShoulder': [0.6838654, 0.187042147, 1.9430536, 1.0, 0.0], u'HandRight': [0.897593439, -0.2658472, 1.51181352, 1.0, 0.0], u'AnkleRight': [0.8157175, -1.09075427, 1.55666041, 1.0, 0.0], u'FootLeft': [0.5563276, -1.15521991, 1.74212575, 1.0, 0.0], u'Neck': [0.679984748, 0.26505813, 1.95084453, 1.0, 0.0], u'ThumbLeft': [0.370437264, -0.4110675, 1.836, 1.0, 0.0], u'ElbowLeft': [0.4665454, -0.127492666, 1.98672473, 1.0, 0.0], u'ShoulderLeft': [0.5274539, 0.133380681, 2.01318479, 1.0, 0.0], u'WristLeft': [0.4066924, -0.318831325, 1.879513, 1.0, 0.0], u'HandLeft': [0.404776484, -0.360989749, 1.83778739, 1.0, 0.0], u'HandTipRight': [0.8875667, -0.3065174, 1.427021, 1.0, 0.0], u'HipRight': [0.757378459, -0.3647814, 1.78390157, 1.0, 0.0], u'ThumbRight': [0.899807632, -0.29878065, 1.49775946, 1.0, 0.0], u'KneeLeft': [0.6055533, -0.7490376, 1.82631564, 1.0, 0.0], u'ShoulderRight': [0.838650644, 0.14825803, 1.84483087, 1.0, 0.0], u'ElbowRight': [0.9373035, -0.0701847449, 1.770145, 1.0, 0.0]}, u'EyeGazeConfidence': 1.0, u'HandLeftState': 0, u'FaceImage': None}, u'7205759403803477300': {u'JointsConfidence': 46, u'EyeGazeDirectionVector': [-0.4579388907723638, 0.6163828712524498, -0.006988195205325537], u'DistConfidence': 5.0, u'EyeGazeSceenIndex': [0, -2], u'Joints': {u'HandTipLeft': [-1.61764359, 0.8956908, -0.4546061, 1.0, 2.0], u'AnkleLeft': [-1.7989713, 0.3330787, -0.6321548, 1.0, 1.0], u'WristRight': [-1.33658063, 1.01737463, -0.8192915, 1.0, 2.0], u'KneeRight': [-1.55693841, 0.659559846, -0.7735789, 1.0, 2.0], u'HipLeft': [-1.45818388, 0.9616593, -0.5208576, 1.0, 2.0], u'Head': [-0.930356443, 1.5603174, -0.369866252, 1.0, 2.0], u'FootRight': [-1.83481824, 0.388770938, -0.9151739, 1.0, 1.0], u'SpineBase': [-1.38995171, 0.9338447, -0.58499527, 1.0, 2.0], u'SpineMid': [-1.188556, 1.1793555, -0.490975231, 1.0, 2.0], u'SpineShoulder': [-1.04717565, 1.36245358, -0.425310463, 1.0, 2.0], u'HandRight': [-1.38272619, 0.980007946, -0.8231905, 1.0, 2.0], u'AnkleRight': [-1.70795655, 0.339803547, -0.855602264, 1.0, 1.0], u'FootLeft': [-1.92331386, 0.384538054, -0.6959911, 1.0, 1.0], u'Neck': [-1.00342536, 1.423699, -0.405122727, 1.0, 2.0], u'ThumbLeft': [-1.54289794, 0.96740824, -0.4745555, 1.0, 2.0], u'ElbowLeft': [-1.34381819, 1.148266, -0.309321433, 1.0, 2.0], u'ShoulderLeft': [-1.16201055, 1.33722413, -0.280216038, 1.0, 2.0], u'WristLeft': [-1.53447008, 0.9976667, -0.39444688, 1.0, 2.0], u'HandLeft': [-1.57023823, 0.949442565, -0.42056185, 1.0, 2.0], u'HandTipRight': [-1.44087625, 0.9329399, -0.838339, 1.0, 2.0], u'HipRight': [-1.37746656, 0.9566893, -0.6673324, 1.0, 2.0], u'ThumbRight': [-1.4146713, 0.9951583, -0.7818041, 1.0, 2.0], u'KneeLeft': [-1.64054656, 0.6608678, -0.5829198, 1.0, 2.0], u'ShoulderRight': [-1.002682, 1.3358047, -0.6148612, 1.0, 2.0], u'ElbowRight': [-1.15622783, 1.14531255, -0.7377423, 1.0, 2.0]}, u'EyeGazeSceenPosition': [0.9217586765655705, -0.5394354166039541, 0.9217586765655705, -1.789435416603954, 1736.2290733695881, -3092.144399891633], u'HandsConfidence': 2, u'KinectId': 0, u'HandRightState': 1, u'OriginJoints': {u'HandTipLeft': [-0.269347757, -0.5650308, 1.85473239, 1.0, 0.0], u'AnkleLeft': [-0.185030013, -1.17256844, 1.92131376, 1.0, 0.0], u'WristRight': [0.160341367, -0.39998284, 1.91253972, 1.0, 0.0], u'KneeRight': [0.0417051576, -0.7991425, 1.91193974, 1.0, 0.0], u'HipLeft': [-0.1513478, -0.443224967, 1.93264949, 1.0, 0.0], u'Head': [-0.08536301, 0.337486118, 2.12262344, 1.0, 0.0], u'FootRight': [0.06088307, -1.190719, 1.76977408, 1.0, 0.0], u'SpineBase': [-0.06961306, -0.449782759, 1.97648191, 1.0, 0.0], u'SpineMid': [-0.07921378, -0.128732815, 2.05586982, 1.0, 0.0], u'SpineShoulder': [-0.08656174, 0.105512574, 2.10595942, 1.0, 0.0], u'HandRight': [0.144904241, -0.454754055, 1.89238381, 1.0, 0.0], u'AnkleRight': [0.0548217222, -1.16973543, 1.916252, 1.0, 0.0], u'FootLeft': [-0.175008431, -1.1936146, 1.77493131, 1.0, 0.0], u'Neck': [-0.0889042, 0.1818333, 2.11913586, 1.0, 0.0], u'ThumbLeft': [-0.237306088, -0.4547438, 1.87812972, 1.0, 0.0], u'ElbowLeft': [-0.306958824, -0.188053071, 2.00808454, 1.0, 0.0], u'ShoulderLeft': [-0.2671436, 0.0544109531, 2.07419086, 1.0, 0.0], u'WristLeft': [-0.299438477, -0.426741153, 1.89388251, 1.0, 0.0], u'HandLeft': [-0.2875557, -0.485706568, 1.88249707, 1.0, 0.0], u'HandTipRight': [0.1359318, -0.5224578, 1.86279833, 1.0, 0.0], u'HipRight': [0.0146778943, -0.4393925, 1.94575322, 1.0, 0.0], u'ThumbRight': [0.0979033, -0.427838236, 1.881889, 1.0, 0.0], u'KneeLeft': [-0.1679926, -0.8041236, 1.90799963, 1.0, 0.0], u'ShoulderRight': [0.103985704, 0.06557773, 2.09434, 1.0, 0.0], u'ElbowRight': [0.1526101, -0.188001662, 2.021632, 1.0, 0.0]}, u'EyeGazeConfidence': 1.0, u'HandLeftState': 1, u'FaceImage': None}}}\n"
     ]
    }
   ],
   "source": [
    "m=list(frames.find({\"Bodies.7205759403803021300\":{\"$exists\":True}}).sort('CreatedTime',1))\n",
    "print len(m)\n",
    "\n",
    "print m[0]"
   ]
  },
  {
   "cell_type": "code",
   "execution_count": 43,
   "metadata": {},
   "outputs": [
    {
     "name": "stdout",
     "output_type": "stream",
     "text": [
      "[u'HandTipLeft', u'AnkleLeft', u'WristRight', u'KneeRight', u'HipLeft', u'Head', u'FootRight', u'SpineBase', u'SpineMid', u'SpineShoulder', u'HandRight', u'AnkleRight', u'FootLeft', u'Neck', u'ThumbLeft', u'ElbowLeft', u'ShoulderLeft', u'WristLeft', u'HandLeft', u'HandTipRight', u'HipRight', u'ThumbRight', u'KneeLeft', u'ShoulderRight', u'ElbowRight']\n"
     ]
    }
   ],
   "source": [
    "\n",
    "f=lambda m: m['Bodies']['7205759403803021300']['Joints'].values() \n",
    "\n",
    "d=map(f,m)\n",
    "\n",
    "\n",
    "labels=m[0]['Bodies']['7205759403803021300']['Joints'].keys()\n",
    "print labels"
   ]
  },
  {
   "cell_type": "code",
   "execution_count": 9,
   "metadata": {},
   "outputs": [],
   "source": [
    "f=numpy.array(d)"
   ]
  },
  {
   "cell_type": "code",
   "execution_count": 10,
   "metadata": {},
   "outputs": [
    {
     "name": "stdout",
     "output_type": "stream",
     "text": [
      "(613, 25, 3)\n"
     ]
    }
   ],
   "source": [
    "fpos=f[:,:,0:3]\n",
    "print fpos.shape\n",
    "\n"
   ]
  },
  {
   "cell_type": "code",
   "execution_count": 12,
   "metadata": {},
   "outputs": [
    {
     "name": "stdout",
     "output_type": "stream",
     "text": [
      "(613, 25, 3)\n"
     ]
    }
   ],
   "source": [
    "\n",
    "\n",
    "print fpos.shape"
   ]
  },
  {
   "cell_type": "code",
   "execution_count": 19,
   "metadata": {},
   "outputs": [
    {
     "data": {
      "text/html": [
       "<script>requirejs.config({paths: { 'plotly': ['https://cdn.plot.ly/plotly-latest.min']},});if(!window.Plotly) {{require(['plotly'],function(plotly) {window.Plotly=plotly;});}}</script>"
      ],
      "text/vnd.plotly.v1+html": [
       "<script>requirejs.config({paths: { 'plotly': ['https://cdn.plot.ly/plotly-latest.min']},});if(!window.Plotly) {{require(['plotly'],function(plotly) {window.Plotly=plotly;});}}</script>"
      ]
     },
     "metadata": {},
     "output_type": "display_data"
    },
    {
     "data": {
      "text/html": [
       "\n",
       "<!DOCTYPE HTML>\n",
       "<html>\n",
       "  <head>\n",
       "    <style>\n",
       "      body {\n",
       "        margin: 0px;\n",
       "        padding: 0px;\n",
       "      }\n",
       "    </style>\n",
       "  </head>\n",
       "  <body>\n",
       "    <canvas id=\"myCanvas\" width=\"400\" height=\"400\"></canvas>\n",
       "    <script>\n",
       "      var canvas = document.getElementById('myCanvas');\n",
       "      var context = canvas.getContext('2d');\n",
       "      <!-- Dashboard -->\n",
       "      context.beginPath();\n",
       "      context.rect(0, 0, 400, 400);\n",
       "      context.lineWidth = 2;\n",
       "      context.strokeStyle = 'black';\n",
       "      context.stroke();\n",
       "     <!-- Insert box numbers -->\n",
       "          context.font = '10pt Times New Roman';\n",
       "          context.textAlign = 'center';\n",
       "          context.fillText(1, 0 + 0.5*400, 0 + 0.5*400);\n",
       "     </script>\n",
       "  </body>\n",
       "</html>\n"
      ],
      "text/plain": [
       "<IPython.core.display.HTML object>"
      ]
     },
     "execution_count": 19,
     "metadata": {},
     "output_type": "execute_result"
    }
   ],
   "source": [
    "\n",
    "import plotly.dashboard_objs as dashboard\n",
    "\n",
    "\n",
    "from plotly.offline import init_notebook_mode, iplot\n",
    "from IPython.display import display, HTML, Image\n",
    "\n",
    "\n",
    "import numpy as np\n",
    "\n",
    "init_notebook_mode(connected=True)\n",
    "\n",
    "\n",
    "my_dboard=dashboard.Dashboard()\n",
    "\n",
    "\n",
    "box1={\n",
    "    'type':'box',\n",
    "    'boxType':'plot',\n",
    "    'title':'2d plot gate'\n",
    "}\n",
    "my_dboard.insert(box1)\n",
    "my_dboard.get_preview()"
   ]
  },
  {
   "cell_type": "code",
   "execution_count": 50,
   "metadata": {},
   "outputs": [
    {
     "data": {
      "text/html": [
       "<script>requirejs.config({paths: { 'plotly': ['https://cdn.plot.ly/plotly-latest.min']},});if(!window.Plotly) {{require(['plotly'],function(plotly) {window.Plotly=plotly;});}}</script>"
      ],
      "text/vnd.plotly.v1+html": [
       "<script>requirejs.config({paths: { 'plotly': ['https://cdn.plot.ly/plotly-latest.min']},});if(!window.Plotly) {{require(['plotly'],function(plotly) {window.Plotly=plotly;});}}</script>"
      ]
     },
     "metadata": {},
     "output_type": "display_data"
    },
    {
     "data": {
      "text/plain": [
       "u'https://plot.ly/~hibana1983/55'"
      ]
     },
     "execution_count": 50,
     "metadata": {},
     "output_type": "execute_result"
    }
   ],
   "source": [
    "import plotly.plotly as py\n",
    "\n",
    "from plotly.offline import init_notebook_mode, iplot\n",
    "\n",
    "init_notebook_mode(connected=True)\n",
    "\n",
    "trace1=dict(x=fpos[0,:,0],y=fpos[0,:,2],z=fpos[0,:,1],mode='markers',type='scatter3d',text=labels,textposition='bottom')\n",
    "data=[trace1]\n",
    "layout=dict(\n",
    "    margin=dict(\n",
    "        l=0,\n",
    "        r=0,\n",
    "        b=0,\n",
    "        t=0),\n",
    "    \n",
    "    updatemenus=[ {'type': 'buttons',\n",
    "                 'buttons': [ {'label': 'Play',\n",
    "                               'method': 'animate',\n",
    "                               'args': [None]\n",
    "                              }\n",
    "                            ]\n",
    "                }\n",
    "              ]\n",
    "    \n",
    ")\n",
    "\n",
    "\n",
    "frames=[ dict(data=[ dict(x=fpos[k,:,0], y=fpos[k,:,2],z=fpos[k,:,1],type='scatter3d',mode='markers')]) for k in range(613) ]\n",
    "\n",
    "\n",
    "fig = dict(data=data, layout=layout,frames=frames)\n",
    "\n",
    "\n",
    "py.plot(fig,filename='3DGaitPlot')"
   ]
  },
  {
   "cell_type": "code",
   "execution_count": null,
   "metadata": {
    "collapsed": true
   },
   "outputs": [],
   "source": []
  },
  {
   "cell_type": "code",
   "execution_count": null,
   "metadata": {
    "collapsed": true
   },
   "outputs": [],
   "source": []
  },
  {
   "cell_type": "code",
   "execution_count": 51,
   "metadata": {},
   "outputs": [
    {
     "data": {
      "text/plain": [
       "u'https://plot.ly/~hibana1983/51'"
      ]
     },
     "execution_count": 51,
     "metadata": {},
     "output_type": "execute_result"
    }
   ],
   "source": [
    "data2=[dict(y=fpos[:,i,0],name=labels[i]) for i in range(25)]\n",
    "\n",
    "\n",
    "fig2 = dict(data=data2, layout=layout,frames=frames)\n",
    "\n",
    "py.plot(fig2,filename='posx')"
   ]
  },
  {
   "cell_type": "code",
   "execution_count": 52,
   "metadata": {},
   "outputs": [
    {
     "data": {
      "text/plain": [
       "u'https://plot.ly/~hibana1983/57'"
      ]
     },
     "execution_count": 52,
     "metadata": {},
     "output_type": "execute_result"
    }
   ],
   "source": [
    "data3=[dict(y=fpos[:,i,1],name=labels[i]) for i in range(25)]\n",
    "\n",
    "fig3 = dict(data=data3, layout=layout,frames=frames)\n",
    "py.plot(fig3,filename='posy')\n"
   ]
  },
  {
   "cell_type": "code",
   "execution_count": 53,
   "metadata": {},
   "outputs": [
    {
     "data": {
      "text/plain": [
       "u'https://plot.ly/~hibana1983/59'"
      ]
     },
     "execution_count": 53,
     "metadata": {},
     "output_type": "execute_result"
    }
   ],
   "source": [
    "data4=[dict(y=fpos[:,i,2],name=labels[i]) for i in range(25)]\n",
    "\n",
    "fig4 = dict(data=data4, layout=layout,frames=frames)\n",
    "py.plot(fig4,filename='posz')\n",
    "\n",
    "\n"
   ]
  }
 ],
 "metadata": {
  "kernelspec": {
   "display_name": "Python [default]",
   "language": "python",
   "name": "python2"
  },
  "language_info": {
   "codemirror_mode": {
    "name": "ipython",
    "version": 2
   },
   "file_extension": ".py",
   "mimetype": "text/x-python",
   "name": "python",
   "nbconvert_exporter": "python",
   "pygments_lexer": "ipython2",
   "version": "2.7.13"
  }
 },
 "nbformat": 4,
 "nbformat_minor": 2
}
